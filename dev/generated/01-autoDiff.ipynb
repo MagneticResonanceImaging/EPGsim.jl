{
 "cells": [
  {
   "cell_type": "markdown",
   "source": [
    "# Automatic Differentiation"
   ],
   "metadata": {}
  },
  {
   "cell_type": "markdown",
   "source": [
    "## Description\n",
    "\n",
    "This example described how to use Automatic Differentiation with the package\n",
    "**ForwardDiff.jl** on a Multi-Echo Spin-Echo (MESE) sequence."
   ],
   "metadata": {}
  },
  {
   "cell_type": "markdown",
   "source": [
    "## Setup"
   ],
   "metadata": {}
  },
  {
   "outputs": [],
   "cell_type": "code",
   "source": [
    "using CairoMakie\n",
    "using EPGsim\n",
    "using ForwardDiff"
   ],
   "metadata": {},
   "execution_count": null
  },
  {
   "cell_type": "markdown",
   "source": [
    "## MESE function\n",
    "First we need a function that returns the echo amplitudes at n*TE.\n",
    "We need to make sure that the EPGStates object will have a type Complex{T} where T can\n",
    "be a Float or a Dual number used by `ForwardDiff`"
   ],
   "metadata": {}
  },
  {
   "outputs": [],
   "cell_type": "code",
   "source": [
    "function MESE_EPG(T2,T1,TE,ETL,delta)\n",
    "    T = complex(eltype(T2))\n",
    "    E = EPGStates([T(0.0)],[T(0.0)],[T(1.0)])\n",
    "    echo_vec = Vector{Complex{eltype(T2)}}()\n",
    "\n",
    "    E = epgRotation(E,pi/2*delta, pi/2)\n",
    "    ##loop over refocusing-pulses\n",
    "    for i = 1:ETL\n",
    "      E = epgDephasing(E,1)\n",
    "      E = epgRelaxation(E,TE,T1,T2)\n",
    "      E  = epgRotation(E,pi*delta,0.0)\n",
    "      E  = epgDephasing(E,1)\n",
    "      push!(echo_vec,E.Fp[1])\n",
    "    end\n",
    "\n",
    "    return abs.(echo_vec)\n",
    "  end"
   ],
   "metadata": {},
   "execution_count": null
  },
  {
   "cell_type": "markdown",
   "source": [
    "Let's see if we can see a T₂ decaying exponential curve with B₁=1.0"
   ],
   "metadata": {}
  },
  {
   "outputs": [],
   "cell_type": "code",
   "source": [
    "T2 = 60.0\n",
    "T1 = 1000.0\n",
    "TE = 7\n",
    "ETL = 50\n",
    "deltaB1 = 1\n",
    "TE_vec = range(7,50*7,50)\n",
    "\n",
    "amp = MESE_EPG(T2,T1,TE,ETL,deltaB1)\n",
    "j = ForwardDiff.jacobian(x -> MESE_EPG(x,T1,TE,ETL,deltaB1),[60.0])\n",
    "lines(TE_vec,amp)"
   ],
   "metadata": {},
   "execution_count": null
  },
  {
   "cell_type": "markdown",
   "source": [
    "The derivative of the function f:\n",
    "$$f(x) = \\exp(-\\frac{TE}{T_2})$$\n",
    "according to the variable T₂ gives :"
   ],
   "metadata": {}
  },
  {
   "outputs": [],
   "cell_type": "code",
   "source": [
    "df = TE_vec .* exp.(-TE_vec./T2)./(T2^2)\n",
    "\n",
    "lines(TE_vec,df,axis =(;title = \"dS/dT2\", xlabel=\"TE [ms]\"))"
   ],
   "metadata": {},
   "execution_count": null
  },
  {
   "cell_type": "markdown",
   "source": [
    "## perform AD"
   ],
   "metadata": {}
  },
  {
   "outputs": [],
   "cell_type": "code",
   "source": [
    "j = ForwardDiff.jacobian(x -> MESE_EPG(x,T1,TE,ETL,deltaB1),[T2])"
   ],
   "metadata": {},
   "execution_count": null
  },
  {
   "cell_type": "markdown",
   "source": [
    "## Reproducibility"
   ],
   "metadata": {}
  },
  {
   "cell_type": "markdown",
   "source": [
    "This page was generated with the following version of Julia:"
   ],
   "metadata": {}
  },
  {
   "outputs": [],
   "cell_type": "code",
   "source": [
    "using InteractiveUtils\n",
    "io = IOBuffer();\n",
    "versioninfo(io);\n",
    "split(String(take!(io)), '\\n')"
   ],
   "metadata": {},
   "execution_count": null
  },
  {
   "cell_type": "markdown",
   "source": [
    "And with the following package versions"
   ],
   "metadata": {}
  },
  {
   "outputs": [],
   "cell_type": "code",
   "source": [
    "import Pkg; Pkg.status()"
   ],
   "metadata": {},
   "execution_count": null
  },
  {
   "cell_type": "markdown",
   "source": [
    "---\n",
    "\n",
    "*This notebook was generated using [Literate.jl](https://github.com/fredrikekre/Literate.jl).*"
   ],
   "metadata": {}
  }
 ],
 "nbformat_minor": 3,
 "metadata": {
  "language_info": {
   "file_extension": ".jl",
   "mimetype": "application/julia",
   "name": "julia",
   "version": "1.9.2"
  },
  "kernelspec": {
   "name": "julia-1.9",
   "display_name": "Julia 1.9.2",
   "language": "julia"
  }
 },
 "nbformat": 4
}
